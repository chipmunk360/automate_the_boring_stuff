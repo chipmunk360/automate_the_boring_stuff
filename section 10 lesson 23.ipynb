{
 "cells": [
  {
   "cell_type": "code",
   "execution_count": 15,
   "metadata": {},
   "outputs": [
    {
     "name": "stdout",
     "output_type": "stream",
     "text": [
      "False\n"
     ]
    }
   ],
   "source": [
    "def isPhoneNumber(text):\n",
    "    if len(text) != 12:\n",
    "      return False #not phone number sized\n",
    "    for i in range(0, 3):\n",
    "        if not text[i].isdecimal():\n",
    "            return False # no area code\n",
    "        if text[3] != '-':\n",
    "            return False  # missing dash\n",
    "        for i in range(4, 7):\n",
    "            if not text[i].isdecimal():\n",
    "                return False # no first three digits\n",
    "        if text[7] != '-':\n",
    "            return False # missing second dash\n",
    "    for i in range(8, 12):\n",
    "        if not text[i].isdecimal():\n",
    "            return False # misssing last four digits\n",
    "    return True\n",
    "\n",
    "print(isPhoneNumber('hello'))"
   ]
  },
  {
   "cell_type": "code",
   "execution_count": 18,
   "metadata": {},
   "outputs": [
    {
     "name": "stdout",
     "output_type": "stream",
     "text": [
      "hAHAHHAHAHAHAHA ACESSS DENIEDDDD!!!!\n",
      "hAHAHHAHAHAHAHA ACESSS DENIEDDDD!!!!\n",
      "hAHAHHAHAHAHAHA ACESSS DENIEDDDD!!!!\n",
      "hAHAHHAHAHAHAHA ACESSS DENIEDDDD!!!!\n",
      "hAHAHHAHAHAHAHA ACESSS DENIEDDDD!!!!\n",
      "hAHAHHAHAHAHAHA ACESSS DENIEDDDD!!!!\n",
      "hAHAHHAHAHAHAHA ACESSS DENIEDDDD!!!!\n",
      "hAHAHHAHAHAHAHA ACESSS DENIEDDDD!!!!\n",
      "hAHAHHAHAHAHAHA ACESSS DENIEDDDD!!!!\n",
      "hAHAHHAHAHAHAHA ACESSS DENIEDDDD!!!!\n",
      "hAHAHHAHAHAHAHA ACESSS DENIEDDDD!!!!\n",
      "Phone number found:415-555-1011\n"
     ]
    }
   ],
   "source": [
    "message = 'Call me at 415-555-1011 tomorrow.'\n",
    "foundNumber = False\n",
    "for i in range(len(message)):\n",
    "    chunk = message[i:i+12]\n",
    "    if isPhoneNumber(chunk):\n",
    "        print('Phone number found:' + chunk)\n",
    "        foundNumber = True\n",
    "    if not foundNumber:\n",
    "        print(\"hAHAHHAHAHAHAHA ACESSS DENIEDDDD!!!!\")"
   ]
  },
  {
   "cell_type": "code",
   "execution_count": 27,
   "metadata": {},
   "outputs": [
    {
     "name": "stdout",
     "output_type": "stream",
     "text": [
      "415-555-1011\n"
     ]
    }
   ],
   "source": [
    "import re\n",
    "\n",
    "message = 'Call me 415-555-10111 tomorrow.'\n",
    "\n",
    "phoneNumRegex= re.compile(r'\\d\\d\\d-\\d\\d\\d-\\d\\d\\d\\d')\n",
    "mo = phoneNumRegex.search(message)\n",
    "print (mo.group())"
   ]
  },
  {
   "cell_type": "code",
   "execution_count": null,
   "metadata": {},
   "outputs": [],
   "source": []
  },
  {
   "cell_type": "code",
   "execution_count": null,
   "metadata": {},
   "outputs": [],
   "source": []
  },
  {
   "cell_type": "code",
   "execution_count": null,
   "metadata": {},
   "outputs": [],
   "source": []
  }
 ],
 "metadata": {
  "kernelspec": {
   "display_name": "Python 3",
   "language": "python",
   "name": "python3"
  },
  "language_info": {
   "codemirror_mode": {
    "name": "ipython",
    "version": 3
   },
   "file_extension": ".py",
   "mimetype": "text/x-python",
   "name": "python",
   "nbconvert_exporter": "python",
   "pygments_lexer": "ipython3",
   "version": "3.7.1"
  }
 },
 "nbformat": 4,
 "nbformat_minor": 2
}
